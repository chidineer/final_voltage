{
 "cells": [
  {
   "cell_type": "markdown",
   "metadata": {},
   "source": [
    "# Notebook to calculate average and median CB & LB voltages on the SGT Fleet\n",
    "## From voltage at 240 minutes"
   ]
  },
  {
   "cell_type": "markdown",
   "metadata": {},
   "source": [
    "## Load BDT files from folder and store as dataframes in a list"
   ]
  },
  {
   "cell_type": "code",
   "execution_count": 16,
   "metadata": {},
   "outputs": [
    {
     "name": "stdout",
     "output_type": "stream",
     "text": [
      "['BDT_fleet_failed/B05_CSVLog-2023-02-26_0002.csv', 'BDT_fleet_failed/B19_CSVLog-2023-06-18_0442_B19.csv', 'BDT_fleet_failed/B24_CSVLog-2023-03-28_1544.csv']\n"
     ]
    }
   ],
   "source": [
    "import os\n",
    "import pandas as pd\n",
    "import numpy as np\n",
    "\n",
    "# Init main dir and list\n",
    "main_directory = 'BDT_fleet_latest_Q4_2024'\n",
    "fail_directory = 'BDT_fleet_failed' \n",
    "latest_fleet_bdt = []\n",
    "cb_terminal_voltage = ['RT1BMCBBV', 'RT4BMCBBV', 'RT5BMCBBV', 'RT8BMCBBV']\n",
    "lb_terminal_voltage = ['RT1BMLBBV','RM2BMLBBV','RM3BMLBBV','RT4BMLBBV','RT5BMLBBV','RM6BMLBBV','RM7BMLBBV','RT8BMLBBV']\n",
    "\n",
    "file_path = []\n",
    "\n",
    "look_at_failed = True # Change depending on if you wanna look at pass or failed data\n",
    "\n",
    "if look_at_failed:\n",
    "    # Look through folder\n",
    "    for file_name in os.listdir(fail_directory):\n",
    "        if file_name.endswith('.csv'):\n",
    "            temp_file_path = os.path.join(fail_directory, file_name)\n",
    "            file_path.append(temp_file_path)\n",
    "            file_path.sort()\n",
    "else:       \n",
    "    for file_name in os.listdir(main_directory):\n",
    "        if file_name.endswith('.csv'):\n",
    "            temp_file_path = os.path.join(main_directory, file_name)\n",
    "            file_path.append(temp_file_path)\n",
    "            file_path.sort()\n",
    "\n",
    "# Read the CSV file into a df and put in list\n",
    "for i, path in enumerate(file_path):\n",
    "    df = pd.read_csv(file_path[i])\n",
    "    latest_fleet_bdt.append(df)\n",
    "\n",
    "# Check that files are loaded correctly\n",
    "# and are sorted\n",
    "print(file_path)"
   ]
  },
  {
   "cell_type": "markdown",
   "metadata": {},
   "source": [
    "## Calculate Average and Median Final Voltages for Control Batteries"
   ]
  },
  {
   "cell_type": "code",
   "execution_count": 17,
   "metadata": {},
   "outputs": [
    {
     "name": "stdout",
     "output_type": "stream",
     "text": [
      "Avergae of train 1 is 94.55\n",
      "Avergae of train 2 is 92.675\n",
      "Avergae of train 3 is 96.875\n",
      "Control Battery Fleet Average is 94.7\n",
      "Control Battery Fleet Median is 93.9\n",
      "Control Battery Fleet Average of Set Medians is 94.5\n"
     ]
    }
   ],
   "source": [
    "# Init default containers for calcs\n",
    "D11_CB_values = []\n",
    "T13_CB_values = []\n",
    "T14_CB_values = []\n",
    "D12_CB_values = []\n",
    "\n",
    "D11_CB_terminal_voltage = []\n",
    "T13_CB_terminal_voltage = []\n",
    "T14_CB_terminal_voltage = []\n",
    "D12_CB_terminal_voltage = []\n",
    "\n",
    "range = [41]\n",
    "\n",
    "total_CB_D11 = 0\n",
    "total_CB_T13 = 0\n",
    "total_CB_T14 = 0\n",
    "total_CB_D12 = 0\n",
    "\n",
    "cb_single_train_average = 0\n",
    "cb_fleet_average = 0\n",
    "cb_median_avg_train_voltages = []\n",
    "\n",
    "# Loop through trains (B1-B41)\n",
    "for i, train in enumerate(latest_fleet_bdt):\n",
    "    # Extract final voltage vlaue per CB per train\n",
    "    D11_CB_terminal_voltage = latest_fleet_bdt[i]['RT1BMCBBV'].tail(1).values[0]\n",
    "    T13_CB_terminal_voltage = latest_fleet_bdt[i]['RT4BMCBBV'].tail(1).values[0]\n",
    "    T14_CB_terminal_voltage = latest_fleet_bdt[i]['RT5BMCBBV'].tail(1).values[0]\n",
    "    D12_CB_terminal_voltage = latest_fleet_bdt[i]['RT8BMCBBV'].tail(1).values[0]\n",
    "    \n",
    "    # Calculate train average\n",
    "    temp_average = int(D11_CB_terminal_voltage+T13_CB_terminal_voltage+\n",
    "                       T14_CB_terminal_voltage+D12_CB_terminal_voltage) / 4\n",
    "    \n",
    "    range.append(temp_average)\n",
    "    \n",
    "    # Store train average\n",
    "    cb_single_train_average += temp_average\n",
    "    # Store single iterated train median\n",
    "    cb_median_avg_train_voltages.append(int(temp_average))\n",
    "    \n",
    "    # Append values to lists for median calculation\n",
    "    # These are the raw bank values for each car for each train\n",
    "    D11_CB_values.append(int(D12_CB_terminal_voltage))\n",
    "    T13_CB_values.append(int(T13_CB_terminal_voltage))\n",
    "    T14_CB_values.append(int(T14_CB_terminal_voltage))\n",
    "    D12_CB_values.append(int(D12_CB_terminal_voltage))\n",
    "    \n",
    "    # Debug\n",
    "    print(f\"Avergae of train {i+1} is {temp_average/10}\")\n",
    "\n",
    "range.sort()\n",
    "## Calc Bank Median \n",
    "cb_median = []\n",
    "cb_median.append(np.median(D11_CB_values))\n",
    "cb_median.append(np.median(T13_CB_values))\n",
    "cb_median.append(np.median(T14_CB_values))\n",
    "cb_median.append(np.median(D12_CB_values))\n",
    "\n",
    "num_trains = len(latest_fleet_bdt)\n",
    "cb_fleet_average = cb_single_train_average / num_trains\n",
    "print(f'Control Battery Fleet Average is {cb_fleet_average/10}')\n",
    "print(f'Control Battery Fleet Median is {np.median(cb_median)/10}')\n",
    "print(f'Control Battery Fleet Average of Set Medians is {np.median(cb_median_avg_train_voltages)/10}')"
   ]
  },
  {
   "cell_type": "markdown",
   "metadata": {},
   "source": [
    "## Calculate Average and Median Final Voltages for Lighting Batteries"
   ]
  },
  {
   "cell_type": "code",
   "execution_count": 18,
   "metadata": {},
   "outputs": [
    {
     "name": "stdout",
     "output_type": "stream",
     "text": [
      "Avergae of train 1 is 99.8875\n",
      "Avergae of train 2 is 98.525\n",
      "Avergae of train 3 is 100.325\n",
      "Lighting Battery Fleet Average is 99.57916666666667\n",
      "Lighting Battery Fleet Median is 99.8\n",
      "Lighting Battery Fleet Average of Set Medians is 99.8\n"
     ]
    }
   ],
   "source": [
    "# Init default containers for calcs\n",
    "D11_LB_values = []\n",
    "N17_LB_values = []\n",
    "N19_LB_values = []\n",
    "T13_LB_values = []\n",
    "T14_LB_values = []\n",
    "N18_LB_values = []\n",
    "N16_LB_values = []\n",
    "D12_LB_values = []\n",
    "\n",
    "D11_LB_terminal_voltage = []\n",
    "N17_LB_terminal_voltage = []\n",
    "N19_LB_terminal_voltage = []\n",
    "T13_LB_terminal_voltage = []\n",
    "T14_LB_terminal_voltage = []\n",
    "N18_LB_terminal_voltage = []\n",
    "N16_LB_terminal_voltage = []\n",
    "D12_LB_terminal_voltage = []\n",
    "\n",
    "total_LB_D11 = 0\n",
    "total_LB_N17 = 0\n",
    "total_LB_N19 = 0\n",
    "total_LB_T13 = 0\n",
    "total_LB_T14 = 0\n",
    "total_LB_N18 = 0\n",
    "total_LB_N16 = 0\n",
    "total_LB_D12 = 0\n",
    "\n",
    "lb_single_train_average = 0\n",
    "lb_fleet_average = 0\n",
    "lb_median_avg_train_voltages = []\n",
    "\n",
    "# Loop through trains (B1-B41)\n",
    "for i, train in enumerate(latest_fleet_bdt):\n",
    "    # Extract final voltage value per LB per train    \n",
    "    D11_LB_terminal_voltage = latest_fleet_bdt[i]['RT1BMLBBV'].tail(1).values[0]\n",
    "    N17_LB_terminal_voltage = latest_fleet_bdt[i]['RM2BMLBBV'].tail(1).values[0]\n",
    "    N19_LB_terminal_voltage = latest_fleet_bdt[i]['RM3BMLBBV'].tail(1).values[0]\n",
    "    T13_LB_terminal_voltage = latest_fleet_bdt[i]['RT4BMLBBV'].tail(1).values[0]\n",
    "    T14_LB_terminal_voltage = latest_fleet_bdt[i]['RT5BMLBBV'].tail(1).values[0]\n",
    "    N18_LB_terminal_voltage = latest_fleet_bdt[i]['RM6BMLBBV'].tail(1).values[0]\n",
    "    N16_LB_terminal_voltage = latest_fleet_bdt[i]['RM7BMLBBV'].tail(1).values[0]\n",
    "    D12_LB_terminal_voltage = latest_fleet_bdt[i]['RT8BMLBBV'].tail(1).values[0]\n",
    "    \n",
    "    # Calculate train average\n",
    "    temp_average = int(D11_LB_terminal_voltage+N17_LB_terminal_voltage+\n",
    "                       N19_LB_terminal_voltage+T13_LB_terminal_voltage+\n",
    "                       T14_LB_terminal_voltage+N18_LB_terminal_voltage+\n",
    "                       N16_LB_terminal_voltage+D12_LB_terminal_voltage) / 8\n",
    "    \n",
    "    # Store train average\n",
    "    lb_single_train_average += temp_average\n",
    "    lb_median_avg_train_voltages.append(int(temp_average))\n",
    "    \n",
    "    # Append values to lists for median calculation\n",
    "    # These are the raw bank values for each car for each train  \n",
    "    D11_LB_values.append(int(D11_LB_terminal_voltage))\n",
    "    N17_LB_values.append(int(N17_LB_terminal_voltage))\n",
    "    N19_LB_values.append(int(N19_LB_terminal_voltage))\n",
    "    T13_LB_values.append(int(T13_LB_terminal_voltage))\n",
    "    T14_LB_values.append(int(T14_LB_terminal_voltage))\n",
    "    N18_LB_values.append(int(N18_LB_terminal_voltage))\n",
    "    N16_LB_values.append(int(N16_LB_terminal_voltage))\n",
    "    D12_LB_values.append(int(D12_LB_terminal_voltage))\n",
    "    \n",
    "        # Debug\n",
    "    print(f\"Avergae of train {i+1} is {temp_average/10}\")\n",
    "    \n",
    "\n",
    "lb_median = []\n",
    "lb_median.append(np.median(D11_LB_values))\n",
    "lb_median.append(np.median(N17_LB_values))\n",
    "lb_median.append(np.median(N19_LB_values))\n",
    "lb_median.append(np.median(T13_LB_values))\n",
    "lb_median.append(np.median(T14_LB_values))\n",
    "lb_median.append(np.median(N18_LB_values))\n",
    "lb_median.append(np.median(N16_LB_values))\n",
    "lb_median.append(np.median(D12_LB_values))\n",
    "\n",
    "num_trains = len(latest_fleet_bdt)\n",
    "lb_fleet_average = lb_single_train_average / num_trains\n",
    "print(f'Lighting Battery Fleet Average is {lb_fleet_average/10}')\n",
    "print(f'Lighting Battery Fleet Median is {np.median(lb_median)/10}')\n",
    "print(f'Lighting Battery Fleet Average of Set Medians is {np.median(lb_median_avg_train_voltages)/10}')\n",
    "\n"
   ]
  }
 ],
 "metadata": {
  "kernelspec": {
   "display_name": "Python 3",
   "language": "python",
   "name": "python3"
  },
  "language_info": {
   "codemirror_mode": {
    "name": "ipython",
    "version": 3
   },
   "file_extension": ".py",
   "mimetype": "text/x-python",
   "name": "python",
   "nbconvert_exporter": "python",
   "pygments_lexer": "ipython3",
   "version": "3.10.12"
  }
 },
 "nbformat": 4,
 "nbformat_minor": 2
}
